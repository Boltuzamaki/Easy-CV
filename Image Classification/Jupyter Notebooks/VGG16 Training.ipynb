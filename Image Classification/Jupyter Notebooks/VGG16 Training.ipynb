{
 "cells": [
  {
   "cell_type": "markdown",
   "metadata": {},
   "source": [
    "# VGG 16  Training"
   ]
  },
  {
   "cell_type": "code",
   "execution_count": null,
   "metadata": {},
   "outputs": [],
   "source": [
    "from PIL import Image\n",
    "import PIL\n",
    "import os\n",
    "import numpy as np\n",
    "import pandas as pd\n",
    "import matplotlib.pyplot as plt"
   ]
  },
  {
   "cell_type": "markdown",
   "metadata": {},
   "source": [
    "### Function which helps to find the average shape of images in training folder\n"
   ]
  },
  {
   "cell_type": "code",
   "execution_count": null,
   "metadata": {},
   "outputs": [],
   "source": [
    "def CheckDimsImage(folder_loc):\n",
    "    path = folder_loc\n",
    "    os.chdir(path)\n",
    "    lis = os.listdir()\n",
    "    width1 = []\n",
    "    height1 = []\n",
    "    print(\"Checking size of all images --> \\n\\n\\n\")\n",
    "    for l in lis:\n",
    "        os.chdir(path+\"//\"+l)\n",
    "        images = os.listdir()\n",
    "        for img in images:\n",
    "            image = PIL.Image.open(img)\n",
    "            width, height = image.size\n",
    "            width1.append(width)\n",
    "            height1.append(height)\n",
    "        os.chdir('..')    \n",
    "        dictq  = {'width' : width1,\n",
    "                 'height' : height1}\n",
    "\n",
    "    df = pd.DataFrame(dictq, index = None)\n",
    "    df['mix'] = list(zip(df.width, df.height))\n",
    "    print(\"Number of unique value of diesion of images -->\\n\\n\\n\")\n",
    "    print(df.nunique())\n",
    "    print(df.head())\n",
    "    avg_height = int(np.average(height1))\n",
    "    avg_width = int(np.average(width1))\n",
    "    print(\"Average height -->\",avg_height)\n",
    "    print(\"Average width -->\",avg_width)\n",
    "        "
   ]
  },
  {
   "cell_type": "markdown",
   "metadata": {},
   "source": [
    "### Path of training folder"
   ]
  },
  {
   "cell_type": "code",
   "execution_count": null,
   "metadata": {},
   "outputs": [],
   "source": [
    "path = '//kaggle//input//alien-vs-predator-images//data//train'"
   ]
  },
  {
   "cell_type": "code",
   "execution_count": null,
   "metadata": {},
   "outputs": [],
   "source": [
    "CheckDimsImage(path)"
   ]
  },
  {
   "cell_type": "markdown",
   "metadata": {},
   "source": [
    "### Function which helps to find the nuber of images in each class and determine the training weight according to it"
   ]
  },
  {
   "cell_type": "code",
   "execution_count": null,
   "metadata": {},
   "outputs": [],
   "source": [
    "def NumfileEachClass(folder_loc):\n",
    "    path = folder_loc\n",
    "    os.chdir(path)\n",
    "    lis = os.listdir()\n",
    "    print(\"Show the distribution of images in all classes-> \\n\\n\\n\")\n",
    "    classf = []\n",
    "    number = []\n",
    "    for l in lis:\n",
    "        os.chdir(path+\"//\"+l)\n",
    "        images = os.listdir()\n",
    "        num_images = int(len(images))\n",
    "        classf.append(l)\n",
    "        number.append(num_images)\n",
    "        os.chdir('..') \n",
    "    fig = plt.figure()\n",
    "    ax = fig.add_axes([0,0,1,1])\n",
    "    class_f = classf\n",
    "    num = number\n",
    "    ax.bar(classf,number)\n",
    "    plt.show()\n",
    "    labels_count = dict()\n",
    "    for img_class in [ic for ic in os.listdir(path) if ic[0] != '.']:\n",
    "        labels_count[img_class] = len(os.listdir(path +'//'+ img_class))\n",
    "    total_count = sum(labels_count.values())\n",
    "    class_weights = {cls: total_count / count for cls, count in \n",
    "                     enumerate(labels_count.values())}\n",
    "\n",
    "    return class_weights"
   ]
  },
  {
   "cell_type": "code",
   "execution_count": null,
   "metadata": {},
   "outputs": [],
   "source": [
    "n = NumfileEachClass(path)"
   ]
  },
  {
   "cell_type": "markdown",
   "metadata": {},
   "source": [
    "### Importing libraries and defining parameters"
   ]
  },
  {
   "cell_type": "code",
   "execution_count": null,
   "metadata": {},
   "outputs": [],
   "source": [
    "import keras\n",
    "from keras.preprocessing.image import ImageDataGenerator\n",
    "from keras.models import Sequential\n",
    "from keras.layers import Flatten, Dense, Dropout,Conv2D,MaxPooling2D\n",
    "from keras.optimizers import RMSprop\n",
    "from keras.callbacks import EarlyStopping, ReduceLROnPlateau\n",
    "from keras.models import load_model\n",
    "\n",
    "height = 96\n",
    "width = 96\n",
    "input_sh = (height, width, 3)\n",
    "rotation = 40\n",
    "width_shift = 0.2\n",
    "height_shift = 0.2\n",
    "scale = 1/255\n",
    "shear = 0.2\n",
    "zoom = 0.2\n",
    "horizontal = True\n",
    "fill = 'nearest'\n",
    "validation = 0.2\n",
    "batch = 16\n",
    "dropout_num = 0.1\n",
    "target = (height, width)\n",
    "hidden = 256\n",
    "classes = 2\n",
    "loss_param ='categorical_crossentropy'\n",
    "epoch = 20\n",
    "patience_param = 5         \n",
    "output_path = '//kaggle//working'"
   ]
  },
  {
   "cell_type": "markdown",
   "metadata": {},
   "source": [
    "### Main training function"
   ]
  },
  {
   "cell_type": "code",
   "execution_count": null,
   "metadata": {},
   "outputs": [],
   "source": [
    "def VGGModel(trainable=None):\n",
    "    \n",
    "    \n",
    "    model = keras.applications.VGG16(\n",
    "    include_top=False, \n",
    "    weights='imagenet',\n",
    "    input_shape=input_shape\n",
    "     )\n",
    "    \n",
    "    new_model = Sequential()\n",
    "    \n",
    "    for l in model.layers:\n",
    "        new_model.add(l)\n",
    "    print(new_model.summary()) \n",
    "    # Lock the CONV lyers from gtraining\n",
    "    if trainable is not None:\n",
    "        for layer in new_model.layers[:trainable]:\n",
    "            layer.trainable = False\n",
    "\n",
    "    top = Sequential()\n",
    "    top.add(Flatten(input_shape=new_model.output_shape[1:]))\n",
    "    top.add(Dense(hidden_top, activation='relu', name='Dense_Intermediate_1'))\n",
    "    top.add(Dropout(dropout))\n",
    "    top.add(Dense(2*hidden_top, activation='relu', name='Dense_Intermediate_2'))\n",
    "    top.add(Dropout(dropout, name='Dropout_Regularization'))\n",
    "    if num_class == 1:\n",
    "        top.add(Dense(num_class, activation='sigmoid', name='Output'))\n",
    "    else:\n",
    "        top.add(Dense(num_class, activation='softmax', name='Output'))\n",
    "    # Concanate VGG16 layers and FC layers \n",
    "    new_model.add(top)    \n",
    "    print(new_model.summary())\n",
    "    \n",
    "    # Preproceesing the dataset into keras feedable format\n",
    "    train_datagen = ImageDataGenerator(\n",
    "        rotation_range = rotation,\n",
    "        width_shift_range = width_shift,\n",
    "        height_shift_range= height_shift,\n",
    "        rescale= scale,\n",
    "        shear_range= shear,\n",
    "        zoom_range= zoom,\n",
    "        horizontal_flip= horizontal,\n",
    "        fill_mode=fill,\n",
    "        validation_split=validation\n",
    "    )\n",
    "    test_datagen = ImageDataGenerator(\n",
    "        rescale= scale,\n",
    "    )\n",
    "\n",
    "    train_generator = train_datagen.flow_from_directory(\n",
    "        path,\n",
    "        target_size=target_size,\n",
    "        batch_size=batch_size,\n",
    "        class_mode='categorical',\n",
    "        subset='training',\n",
    "    )\n",
    "    validation_generator = train_datagen.flow_from_directory(\n",
    "        path,\n",
    "        target_size=target_size,\n",
    "        batch_size=batch_size,\n",
    "        class_mode='categorical',\n",
    "        subset='validation'\n",
    "    )\n",
    "    \n",
    "    # Compile the model\n",
    "\n",
    "    new_model.compile(\n",
    "        optimizer=RMSprop(),                       # Change the parameters according to need\n",
    "        loss=loss,\n",
    "        metrics=['accuracy']\n",
    "    )\n",
    "\n",
    "\n",
    "    new_model.fit_generator(\n",
    "        train_generator,\n",
    "        steps_per_epoch=len(train_generator.filenames) // batch_size,\n",
    "        epochs=epoch,\n",
    "        validation_data=validation_generator,\n",
    "        validation_steps=len(train_generator.filenames) // batch_size,\n",
    "        class_weight=n,\n",
    "        callbacks=[\n",
    "            EarlyStopping(patience=patience, restore_best_weights=True),\n",
    "            ReduceLROnPlateau(patience=patience)\n",
    "        ])\n",
    "    os.chdir(output_path)    \n",
    "    model.save(\"model.h5\")    \n",
    "    "
   ]
  },
  {
   "cell_type": "code",
   "execution_count": null,
   "metadata": {},
   "outputs": [],
   "source": [
    "VGGModel(trainable=16)   # this means top 15 layers weight are non trainable"
   ]
  },
  {
   "cell_type": "code",
   "execution_count": null,
   "metadata": {},
   "outputs": [],
   "source": [
    "VGGModel()      # this means all parameters are trainable"
   ]
  }
 ],
 "metadata": {
  "kernelspec": {
   "display_name": "Python 3",
   "language": "python",
   "name": "python3"
  },
  "language_info": {
   "codemirror_mode": {
    "name": "ipython",
    "version": 3
   },
   "file_extension": ".py",
   "mimetype": "text/x-python",
   "name": "python",
   "nbconvert_exporter": "python",
   "pygments_lexer": "ipython3",
   "version": "3.6.5"
  }
 },
 "nbformat": 4,
 "nbformat_minor": 2
}
